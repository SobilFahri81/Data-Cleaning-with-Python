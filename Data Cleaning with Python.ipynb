{
 "cells": [
  {
   "cell_type": "code",
   "execution_count": 24,
   "id": "222c7fbb",
   "metadata": {},
   "outputs": [],
   "source": [
    "import pandas as pd\n",
    "import numpy as np"
   ]
  },
  {
   "cell_type": "code",
   "execution_count": 25,
   "id": "2a4737e5",
   "metadata": {},
   "outputs": [
    {
     "data": {
      "text/html": [
       "<div>\n",
       "<style scoped>\n",
       "    .dataframe tbody tr th:only-of-type {\n",
       "        vertical-align: middle;\n",
       "    }\n",
       "\n",
       "    .dataframe tbody tr th {\n",
       "        vertical-align: top;\n",
       "    }\n",
       "\n",
       "    .dataframe thead th {\n",
       "        text-align: right;\n",
       "    }\n",
       "</style>\n",
       "<table border=\"1\" class=\"dataframe\">\n",
       "  <thead>\n",
       "    <tr style=\"text-align: right;\">\n",
       "      <th></th>\n",
       "      <th>year</th>\n",
       "      <th>type</th>\n",
       "      <th>sex</th>\n",
       "      <th>numbers</th>\n",
       "      <th>icd_codes</th>\n",
       "      <th>cancer_category</th>\n",
       "    </tr>\n",
       "  </thead>\n",
       "  <tbody>\n",
       "    <tr>\n",
       "      <th>0</th>\n",
       "      <td>2016</td>\n",
       "      <td>regs</td>\n",
       "      <td>AllSex</td>\n",
       "      <td>24218</td>\n",
       "      <td>C00-C96, D45-D47</td>\n",
       "      <td>All cancers</td>\n",
       "    </tr>\n",
       "    <tr>\n",
       "      <th>1</th>\n",
       "      <td>2015</td>\n",
       "      <td>regs</td>\n",
       "      <td>AllSex</td>\n",
       "      <td>23380</td>\n",
       "      <td>C00-C96, D45-D47</td>\n",
       "      <td>All cancers</td>\n",
       "    </tr>\n",
       "    <tr>\n",
       "      <th>2</th>\n",
       "      <td>2014</td>\n",
       "      <td>regs</td>\n",
       "      <td>AllSex</td>\n",
       "      <td>23227</td>\n",
       "      <td>C00-C96, D45-D47</td>\n",
       "      <td>All cancers</td>\n",
       "    </tr>\n",
       "    <tr>\n",
       "      <th>3</th>\n",
       "      <td>2013</td>\n",
       "      <td>regs</td>\n",
       "      <td>AllSex</td>\n",
       "      <td>22395</td>\n",
       "      <td>C00-C96, D45-D47</td>\n",
       "      <td>All cancers</td>\n",
       "    </tr>\n",
       "    <tr>\n",
       "      <th>4</th>\n",
       "      <td>2012</td>\n",
       "      <td>regs</td>\n",
       "      <td>AllSex</td>\n",
       "      <td>22062</td>\n",
       "      <td>C00-C96, D45-D47</td>\n",
       "      <td>All cancers</td>\n",
       "    </tr>\n",
       "  </tbody>\n",
       "</table>\n",
       "</div>"
      ],
      "text/plain": [
       "   year  type     sex  numbers         icd_codes cancer_category\n",
       "0  2016  regs  AllSex    24218  C00-C96, D45-D47     All cancers\n",
       "1  2015  regs  AllSex    23380  C00-C96, D45-D47     All cancers\n",
       "2  2014  regs  AllSex    23227  C00-C96, D45-D47     All cancers\n",
       "3  2013  regs  AllSex    22395  C00-C96, D45-D47     All cancers\n",
       "4  2012  regs  AllSex    22062  C00-C96, D45-D47     All cancers"
      ]
     },
     "execution_count": 25,
     "metadata": {},
     "output_type": "execute_result"
    }
   ],
   "source": [
    "data_cancer = pd.read_csv('cancer_data.csv')\n",
    "data_cancer.head(5)"
   ]
  },
  {
   "cell_type": "code",
   "execution_count": 26,
   "id": "1b555d2f",
   "metadata": {},
   "outputs": [
    {
     "data": {
      "text/html": [
       "<div>\n",
       "<style scoped>\n",
       "    .dataframe tbody tr th:only-of-type {\n",
       "        vertical-align: middle;\n",
       "    }\n",
       "\n",
       "    .dataframe tbody tr th {\n",
       "        vertical-align: top;\n",
       "    }\n",
       "\n",
       "    .dataframe thead th {\n",
       "        text-align: right;\n",
       "    }\n",
       "</style>\n",
       "<table border=\"1\" class=\"dataframe\">\n",
       "  <thead>\n",
       "    <tr style=\"text-align: right;\">\n",
       "      <th></th>\n",
       "      <th>year</th>\n",
       "      <th>type</th>\n",
       "      <th>sex</th>\n",
       "      <th>numbers</th>\n",
       "      <th>icd_codes</th>\n",
       "      <th>cancer_category</th>\n",
       "    </tr>\n",
       "  </thead>\n",
       "  <tbody>\n",
       "    <tr>\n",
       "      <th>2809</th>\n",
       "      <td>2001</td>\n",
       "      <td>deaths</td>\n",
       "      <td>Male</td>\n",
       "      <td>2</td>\n",
       "      <td>C50</td>\n",
       "      <td>Breast</td>\n",
       "    </tr>\n",
       "    <tr>\n",
       "      <th>2810</th>\n",
       "      <td>2002</td>\n",
       "      <td>deaths</td>\n",
       "      <td>Male</td>\n",
       "      <td>1</td>\n",
       "      <td>C50</td>\n",
       "      <td>Breast</td>\n",
       "    </tr>\n",
       "    <tr>\n",
       "      <th>2811</th>\n",
       "      <td>2011</td>\n",
       "      <td>deaths</td>\n",
       "      <td>AllSex</td>\n",
       "      <td>1</td>\n",
       "      <td>C62</td>\n",
       "      <td>Testis</td>\n",
       "    </tr>\n",
       "    <tr>\n",
       "      <th>2812</th>\n",
       "      <td>2011</td>\n",
       "      <td>deaths</td>\n",
       "      <td>Male</td>\n",
       "      <td>1</td>\n",
       "      <td>C62</td>\n",
       "      <td>Testis</td>\n",
       "    </tr>\n",
       "    <tr>\n",
       "      <th>2813</th>\n",
       "      <td>2012</td>\n",
       "      <td>deaths</td>\n",
       "      <td>Male</td>\n",
       "      <td>1</td>\n",
       "      <td>C50</td>\n",
       "      <td>Breast</td>\n",
       "    </tr>\n",
       "  </tbody>\n",
       "</table>\n",
       "</div>"
      ],
      "text/plain": [
       "      year    type     sex  numbers icd_codes cancer_category\n",
       "2809  2001  deaths    Male        2       C50          Breast\n",
       "2810  2002  deaths    Male        1       C50          Breast\n",
       "2811  2011  deaths  AllSex        1       C62          Testis\n",
       "2812  2011  deaths    Male        1       C62          Testis\n",
       "2813  2012  deaths    Male        1       C50          Breast"
      ]
     },
     "execution_count": 26,
     "metadata": {},
     "output_type": "execute_result"
    }
   ],
   "source": [
    "data_cancer.tail(5)"
   ]
  },
  {
   "cell_type": "code",
   "execution_count": 27,
   "id": "974c8d97",
   "metadata": {},
   "outputs": [
    {
     "data": {
      "text/html": [
       "<div>\n",
       "<style scoped>\n",
       "    .dataframe tbody tr th:only-of-type {\n",
       "        vertical-align: middle;\n",
       "    }\n",
       "\n",
       "    .dataframe tbody tr th {\n",
       "        vertical-align: top;\n",
       "    }\n",
       "\n",
       "    .dataframe thead th {\n",
       "        text-align: right;\n",
       "    }\n",
       "</style>\n",
       "<table border=\"1\" class=\"dataframe\">\n",
       "  <thead>\n",
       "    <tr style=\"text-align: right;\">\n",
       "      <th></th>\n",
       "      <th>year</th>\n",
       "      <th>type</th>\n",
       "      <th>sex</th>\n",
       "      <th>numbers</th>\n",
       "      <th>icd_codes</th>\n",
       "      <th>cancer_category</th>\n",
       "    </tr>\n",
       "  </thead>\n",
       "  <tbody>\n",
       "    <tr>\n",
       "      <th>2142</th>\n",
       "      <td>2010</td>\n",
       "      <td>deaths</td>\n",
       "      <td>Female</td>\n",
       "      <td>96</td>\n",
       "      <td>C71</td>\n",
       "      <td>Brain</td>\n",
       "    </tr>\n",
       "    <tr>\n",
       "      <th>2433</th>\n",
       "      <td>1996</td>\n",
       "      <td>deaths</td>\n",
       "      <td>Male</td>\n",
       "      <td>54</td>\n",
       "      <td>C90</td>\n",
       "      <td>Myeloma</td>\n",
       "    </tr>\n",
       "    <tr>\n",
       "      <th>67</th>\n",
       "      <td>2001</td>\n",
       "      <td>regs</td>\n",
       "      <td>Female</td>\n",
       "      <td>8384</td>\n",
       "      <td>C00-C96, D45-D47</td>\n",
       "      <td>All cancers</td>\n",
       "    </tr>\n",
       "    <tr>\n",
       "      <th>723</th>\n",
       "      <td>2006</td>\n",
       "      <td>regs</td>\n",
       "      <td>AllSex</td>\n",
       "      <td>430</td>\n",
       "      <td>C64-C66, C68</td>\n",
       "      <td>Kidney and other urinary</td>\n",
       "    </tr>\n",
       "    <tr>\n",
       "      <th>1055</th>\n",
       "      <td>2012</td>\n",
       "      <td>regs</td>\n",
       "      <td>AllSex</td>\n",
       "      <td>277</td>\n",
       "      <td>C73</td>\n",
       "      <td>Thyroid</td>\n",
       "    </tr>\n",
       "  </tbody>\n",
       "</table>\n",
       "</div>"
      ],
      "text/plain": [
       "      year    type     sex  numbers         icd_codes  \\\n",
       "2142  2010  deaths  Female       96               C71   \n",
       "2433  1996  deaths    Male       54               C90   \n",
       "67    2001    regs  Female     8384  C00-C96, D45-D47   \n",
       "723   2006    regs  AllSex      430      C64-C66, C68   \n",
       "1055  2012    regs  AllSex      277               C73   \n",
       "\n",
       "               cancer_category  \n",
       "2142                     Brain  \n",
       "2433                   Myeloma  \n",
       "67                 All cancers  \n",
       "723   Kidney and other urinary  \n",
       "1055                   Thyroid  "
      ]
     },
     "execution_count": 27,
     "metadata": {},
     "output_type": "execute_result"
    }
   ],
   "source": [
    "data_cancer.sample(5)"
   ]
  },
  {
   "cell_type": "code",
   "execution_count": 28,
   "id": "5095fa99",
   "metadata": {},
   "outputs": [
    {
     "name": "stdout",
     "output_type": "stream",
     "text": [
      "<class 'pandas.core.frame.DataFrame'>\n",
      "RangeIndex: 2814 entries, 0 to 2813\n",
      "Data columns (total 6 columns):\n",
      " #   Column           Non-Null Count  Dtype \n",
      "---  ------           --------------  ----- \n",
      " 0   year             2814 non-null   int64 \n",
      " 1   type             2814 non-null   object\n",
      " 2   sex              2814 non-null   object\n",
      " 3   numbers          2814 non-null   int64 \n",
      " 4   icd_codes        2814 non-null   object\n",
      " 5   cancer_category  2772 non-null   object\n",
      "dtypes: int64(2), object(4)\n",
      "memory usage: 132.0+ KB\n"
     ]
    }
   ],
   "source": [
    "data_cancer.info()"
   ]
  },
  {
   "cell_type": "code",
   "execution_count": 29,
   "id": "6e4c9893",
   "metadata": {},
   "outputs": [
    {
     "data": {
      "text/plain": [
       "year                0\n",
       "type                0\n",
       "sex                 0\n",
       "numbers             0\n",
       "icd_codes           0\n",
       "cancer_category    42\n",
       "dtype: int64"
      ]
     },
     "execution_count": 29,
     "metadata": {},
     "output_type": "execute_result"
    }
   ],
   "source": [
    "data_cancer.isnull().sum()"
   ]
  },
  {
   "cell_type": "code",
   "execution_count": 30,
   "id": "ead6fed4",
   "metadata": {},
   "outputs": [
    {
     "name": "stdout",
     "output_type": "stream",
     "text": [
      "======= year =======\n"
     ]
    },
    {
     "data": {
      "text/plain": [
       "2016    135\n",
       "2008    135\n",
       "2005    135\n",
       "2003    135\n",
       "2004    135\n",
       "2015    135\n",
       "2007    135\n",
       "2006    135\n",
       "2009    135\n",
       "2011    135\n",
       "2010    135\n",
       "2012    135\n",
       "2013    135\n",
       "2014    135\n",
       "2001    132\n",
       "2002    132\n",
       "2000    132\n",
       "1999    132\n",
       "1998    132\n",
       "1996    132\n",
       "1997    132\n",
       "Name: year, dtype: int64"
      ]
     },
     "metadata": {},
     "output_type": "display_data"
    },
    {
     "name": "stdout",
     "output_type": "stream",
     "text": [
      "\n",
      "======= type =======\n"
     ]
    },
    {
     "data": {
      "text/plain": [
       "regs      1428\n",
       "deaths    1386\n",
       "Name: type, dtype: int64"
      ]
     },
     "metadata": {},
     "output_type": "display_data"
    },
    {
     "name": "stdout",
     "output_type": "stream",
     "text": [
      "\n",
      "======= sex =======\n"
     ]
    },
    {
     "data": {
      "text/plain": [
       "AllSex    1022\n",
       "Female     938\n",
       "Male       854\n",
       "Name: sex, dtype: int64"
      ]
     },
     "metadata": {},
     "output_type": "display_data"
    },
    {
     "name": "stdout",
     "output_type": "stream",
     "text": [
      "\n",
      "======= numbers =======\n"
     ]
    },
    {
     "data": {
      "text/plain": [
       "10       20\n",
       "7        20\n",
       "5        18\n",
       "146      17\n",
       "148      16\n",
       "         ..\n",
       "602       1\n",
       "598       1\n",
       "596       1\n",
       "1634      1\n",
       "24218     1\n",
       "Name: numbers, Length: 967, dtype: int64"
      ]
     },
     "metadata": {},
     "output_type": "display_data"
    },
    {
     "name": "stdout",
     "output_type": "stream",
     "text": [
      "\n",
      "======= icd_codes =======\n"
     ]
    },
    {
     "data": {
      "text/plain": [
       "C00-C96, D45-D47    126\n",
       "C67                 126\n",
       "C81                 126\n",
       "C15                 126\n",
       "C71                 126\n",
       "C73                 126\n",
       "C22                 126\n",
       "C90                 126\n",
       "C16                 126\n",
       "C00-C14             126\n",
       "C25                 126\n",
       "C64-C66, C68        126\n",
       "C91-C95             126\n",
       "C82-C86, C96        126\n",
       "C33-C34             126\n",
       "C43                 126\n",
       "C18-C21             126\n",
       "C50                 126\n",
       "C54-C55              84\n",
       "C61                  84\n",
       "C56-C57              84\n",
       "C53                  84\n",
       "C62                  84\n",
       "C51                  84\n",
       "D45-D47              42\n",
       "Name: icd_codes, dtype: int64"
      ]
     },
     "metadata": {},
     "output_type": "display_data"
    },
    {
     "name": "stdout",
     "output_type": "stream",
     "text": [
      "\n",
      "======= cancer_category =======\n"
     ]
    },
    {
     "data": {
      "text/plain": [
       "All cancers                          126\n",
       "Bladder                              126\n",
       "Hodgkin lymphoma                     126\n",
       "Oesophagus                           126\n",
       "Brain                                126\n",
       "Thyroid                              126\n",
       "Liver and intrahepatic bile ducts    126\n",
       "Myeloma                              126\n",
       "Stomach                              126\n",
       "Lip, Oral Cavity and Pharynx         126\n",
       "Pancreas                             126\n",
       "Kidney and other urinary             126\n",
       "Leukaemia                            126\n",
       "Non-Hodgkin lymphoma                 126\n",
       "Lung & Trachea                       126\n",
       "Melanoma                             126\n",
       "Colorectum and anus                  126\n",
       "Breast                               126\n",
       "Uterus                                84\n",
       "Prostate                              84\n",
       "Ovary                                 84\n",
       "Cervix                                84\n",
       "Testis                                84\n",
       "Vulva                                 84\n",
       "Name: cancer_category, dtype: int64"
      ]
     },
     "metadata": {},
     "output_type": "display_data"
    },
    {
     "name": "stdout",
     "output_type": "stream",
     "text": [
      "\n"
     ]
    }
   ],
   "source": [
    "for column in data_cancer.columns:\n",
    "    print(f'======= {column} =======')\n",
    "    display(data_cancer[column].value_counts())\n",
    "    print()"
   ]
  },
  {
   "cell_type": "code",
   "execution_count": 31,
   "id": "a6de1979",
   "metadata": {},
   "outputs": [],
   "source": [
    "data_cancer['cancer_category'] = data_cancer['cancer_category'].fillna(data_cancer['cancer_category'].mode()[0])"
   ]
  },
  {
   "cell_type": "code",
   "execution_count": 32,
   "id": "9e71f463",
   "metadata": {},
   "outputs": [
    {
     "data": {
      "text/plain": [
       "year               0\n",
       "type               0\n",
       "sex                0\n",
       "numbers            0\n",
       "icd_codes          0\n",
       "cancer_category    0\n",
       "dtype: int64"
      ]
     },
     "execution_count": 32,
     "metadata": {},
     "output_type": "execute_result"
    }
   ],
   "source": [
    "data_cancer.isnull().sum()"
   ]
  },
  {
   "cell_type": "code",
   "execution_count": 33,
   "id": "cf708bcc",
   "metadata": {},
   "outputs": [
    {
     "data": {
      "text/plain": [
       "1.0"
      ]
     },
     "execution_count": 33,
     "metadata": {},
     "output_type": "execute_result"
    }
   ],
   "source": [
    "len(data_cancer.drop_duplicates()) / len(data_cancer)"
   ]
  },
  {
   "cell_type": "code",
   "execution_count": 34,
   "id": "0cff96a7",
   "metadata": {},
   "outputs": [],
   "source": [
    "data_cancer = data_cancer.drop_duplicates()"
   ]
  },
  {
   "cell_type": "code",
   "execution_count": 35,
   "id": "769b8045",
   "metadata": {},
   "outputs": [
    {
     "data": {
      "text/plain": [
       "<AxesSubplot:>"
      ]
     },
     "execution_count": 35,
     "metadata": {},
     "output_type": "execute_result"
    },
    {
     "data": {
      "image/png": "[encoded data removed]",
      "text/plain": [
       "<Figure size 432x288 with 1 Axes>"
      ]
     },
     "metadata": {
      "needs_background": "light"
     },
     "output_type": "display_data"
    }
   ],
   "source": [
    "data_cancer[['numbers']].boxplot()"
   ]
  },
  {
   "cell_type": "code",
   "execution_count": 36,
   "id": "d7d1b5da",
   "metadata": {},
   "outputs": [
    {
     "name": "stdout",
     "output_type": "stream",
     "text": [
      "Nilai min_numbers =  1\n",
      "Nilai max_numbers =  24218\n"
     ]
    }
   ],
   "source": [
    "numbers_min = np.min(data_cancer['numbers'])\n",
    "numbers_max = np.max(data_cancer['numbers'])\n",
    "print('Nilai min_numbers = ', numbers_min)\n",
    "print('Nilai max_numbers = ', numbers_max)"
   ]
  },
  {
   "cell_type": "code",
   "execution_count": 37,
   "id": "225313c8",
   "metadata": {},
   "outputs": [
    {
     "name": "stdout",
     "output_type": "stream",
     "text": [
      "Kuartil 1 =  100.0\n",
      "Kuartil 3 =  453.5\n",
      "IQR =  353.5\n"
     ]
    }
   ],
   "source": [
    "Q1 = np.quantile(data_cancer['numbers'], .25)\n",
    "Q3 = np.quantile(data_cancer['numbers'], .75)\n",
    "IQR = Q3 - Q1\n",
    "print('Kuartil 1 = ', Q1)\n",
    "print('Kuartil 3 = ', Q3)\n",
    "print('IQR = ', IQR)"
   ]
  },
  {
   "cell_type": "code",
   "execution_count": 38,
   "id": "c5d26a4f",
   "metadata": {},
   "outputs": [],
   "source": [
    "def remove_outlier(col):\n",
    "    sorted(col)\n",
    "    Q1,Q3 = col.quantile([0.25,0.75])\n",
    "    IQR = Q3 - Q1\n",
    "    return Q1,Q3"
   ]
  },
  {
   "cell_type": "code",
   "execution_count": 39,
   "id": "11ff4c2c",
   "metadata": {},
   "outputs": [],
   "source": [
    "Low_number, Upper_number = remove_outlier(data_cancer['numbers'])"
   ]
  },
  {
   "cell_type": "code",
   "execution_count": 40,
   "id": "f9d62136",
   "metadata": {},
   "outputs": [],
   "source": [
    "data_cancer['numbers'] = np.where(data_cancer['numbers']>Upper_number,Upper_number,data_cancer['numbers'])\n",
    "data_cancer['numbers'] = np.where(data_cancer['numbers']<Low_number,Low_number,data_cancer['numbers'])"
   ]
  },
  {
   "cell_type": "code",
   "execution_count": 41,
   "id": "627cca22",
   "metadata": {},
   "outputs": [
    {
     "data": {
      "text/plain": [
       "<AxesSubplot:>"
      ]
     },
     "execution_count": 41,
     "metadata": {},
     "output_type": "execute_result"
    },
    {
     "data": {
      "image/png": "[encoded data removed]",
      "text/plain": [
       "<Figure size 432x288 with 1 Axes>"
      ]
     },
     "metadata": {
      "needs_background": "light"
     },
     "output_type": "display_data"
    }
   ],
   "source": [
    "data_cancer[['numbers']].boxplot()"
   ]
  },
  {
   "cell_type": "code",
   "execution_count": 20,
   "id": "df51dd3b",
   "metadata": {},
   "outputs": [
    {
     "name": "stdout",
     "output_type": "stream",
     "text": [
      "Kuartil 1 =  100.0\n",
      "Kuartil 3 =  452.375\n",
      "IQR =  353.5\n"
     ]
    }
   ],
   "source": [
    "Q1 = np.quantile(data_cancer['numbers'], 0.25)\n",
    "Q3 = np.quantile(data_cancer['numbers'], 0.75)\n",
    "IQR_ = Q3 - Q1\n",
    "print('Kuartil 1 = ', Q1)\n",
    "print('Kuartil 3 = ', Q3)\n",
    "print('IQR = ', IQR)"
   ]
  },
  {
   "cell_type": "code",
   "execution_count": 21,
   "id": "7f3dd62c",
   "metadata": {},
   "outputs": [
    {
     "name": "stdout",
     "output_type": "stream",
     "text": [
      "======= year =======\n"
     ]
    },
    {
     "data": {
      "text/plain": [
       "2016    135\n",
       "2008    135\n",
       "2005    135\n",
       "2003    135\n",
       "2004    135\n",
       "2015    135\n",
       "2007    135\n",
       "2006    135\n",
       "2009    135\n",
       "2011    135\n",
       "2010    135\n",
       "2012    135\n",
       "2013    135\n",
       "2014    135\n",
       "2001    132\n",
       "2002    132\n",
       "2000    132\n",
       "1999    132\n",
       "1998    132\n",
       "1996    132\n",
       "1997    132\n",
       "Name: year, dtype: int64"
      ]
     },
     "metadata": {},
     "output_type": "display_data"
    },
    {
     "name": "stdout",
     "output_type": "stream",
     "text": [
      "\n",
      "======= type =======\n"
     ]
    },
    {
     "data": {
      "text/plain": [
       "regs      1428\n",
       "deaths    1386\n",
       "Name: type, dtype: int64"
      ]
     },
     "metadata": {},
     "output_type": "display_data"
    },
    {
     "name": "stdout",
     "output_type": "stream",
     "text": [
      "\n",
      "======= sex =======\n"
     ]
    },
    {
     "data": {
      "text/plain": [
       "AllSex    1022\n",
       "Female     938\n",
       "Male       854\n",
       "Name: sex, dtype: int64"
      ]
     },
     "metadata": {},
     "output_type": "display_data"
    },
    {
     "name": "stdout",
     "output_type": "stream",
     "text": [
      "\n",
      "======= numbers =======\n"
     ]
    },
    {
     "data": {
      "text/plain": [
       "100.0    713\n",
       "453.5    704\n",
       "146.0     17\n",
       "148.0     16\n",
       "142.0     16\n",
       "        ... \n",
       "354.0      1\n",
       "358.0      1\n",
       "361.0      1\n",
       "365.0      1\n",
       "258.0      1\n",
       "Name: numbers, Length: 315, dtype: int64"
      ]
     },
     "metadata": {},
     "output_type": "display_data"
    },
    {
     "name": "stdout",
     "output_type": "stream",
     "text": [
      "\n",
      "======= icd_codes =======\n"
     ]
    },
    {
     "data": {
      "text/plain": [
       "C00-C96, D45-D47    126\n",
       "C67                 126\n",
       "C81                 126\n",
       "C15                 126\n",
       "C71                 126\n",
       "C73                 126\n",
       "C22                 126\n",
       "C90                 126\n",
       "C16                 126\n",
       "C00-C14             126\n",
       "C25                 126\n",
       "C64-C66, C68        126\n",
       "C91-C95             126\n",
       "C82-C86, C96        126\n",
       "C33-C34             126\n",
       "C43                 126\n",
       "C18-C21             126\n",
       "C50                 126\n",
       "C54-C55              84\n",
       "C61                  84\n",
       "C56-C57              84\n",
       "C53                  84\n",
       "C62                  84\n",
       "C51                  84\n",
       "D45-D47              42\n",
       "Name: icd_codes, dtype: int64"
      ]
     },
     "metadata": {},
     "output_type": "display_data"
    },
    {
     "name": "stdout",
     "output_type": "stream",
     "text": [
      "\n",
      "======= cancer_category =======\n"
     ]
    },
    {
     "data": {
      "text/plain": [
       "All cancers                          168\n",
       "Bladder                              126\n",
       "Hodgkin lymphoma                     126\n",
       "Oesophagus                           126\n",
       "Brain                                126\n",
       "Thyroid                              126\n",
       "Liver and intrahepatic bile ducts    126\n",
       "Myeloma                              126\n",
       "Stomach                              126\n",
       "Lip, Oral Cavity and Pharynx         126\n",
       "Pancreas                             126\n",
       "Kidney and other urinary             126\n",
       "Leukaemia                            126\n",
       "Non-Hodgkin lymphoma                 126\n",
       "Lung & Trachea                       126\n",
       "Melanoma                             126\n",
       "Colorectum and anus                  126\n",
       "Breast                               126\n",
       "Uterus                                84\n",
       "Prostate                              84\n",
       "Ovary                                 84\n",
       "Cervix                                84\n",
       "Testis                                84\n",
       "Vulva                                 84\n",
       "Name: cancer_category, dtype: int64"
      ]
     },
     "metadata": {},
     "output_type": "display_data"
    },
    {
     "name": "stdout",
     "output_type": "stream",
     "text": [
      "\n"
     ]
    }
   ],
   "source": [
    "for column in data_cancer.columns:\n",
    "    print(f'======= {column} =======')\n",
    "    display(data_cancer[column].value_counts())\n",
    "    print()"
   ]
  },
  {
   "cell_type": "code",
   "execution_count": 22,
   "id": "ce35f0e1",
   "metadata": {},
   "outputs": [],
   "source": [
    "### Onehot Encoding\n",
    "onehot_columns = ['type', 'sex']\n",
    "data_cancer = pd.get_dummies(data_cancer, columns = onehot_columns)"
   ]
  },
  {
   "cell_type": "code",
   "execution_count": 23,
   "id": "5ce8ee64",
   "metadata": {},
   "outputs": [
    {
     "data": {
      "text/html": [
       "<div>\n",
       "<style scoped>\n",
       "    .dataframe tbody tr th:only-of-type {\n",
       "        vertical-align: middle;\n",
       "    }\n",
       "\n",
       "    .dataframe tbody tr th {\n",
       "        vertical-align: top;\n",
       "    }\n",
       "\n",
       "    .dataframe thead th {\n",
       "        text-align: right;\n",
       "    }\n",
       "</style>\n",
       "<table border=\"1\" class=\"dataframe\">\n",
       "  <thead>\n",
       "    <tr style=\"text-align: right;\">\n",
       "      <th></th>\n",
       "      <th>year</th>\n",
       "      <th>numbers</th>\n",
       "      <th>icd_codes</th>\n",
       "      <th>cancer_category</th>\n",
       "      <th>type_deaths</th>\n",
       "      <th>type_regs</th>\n",
       "      <th>sex_AllSex</th>\n",
       "      <th>sex_Female</th>\n",
       "      <th>sex_Male</th>\n",
       "    </tr>\n",
       "  </thead>\n",
       "  <tbody>\n",
       "    <tr>\n",
       "      <th>0</th>\n",
       "      <td>2016</td>\n",
       "      <td>453.5</td>\n",
       "      <td>C00-C96, D45-D47</td>\n",
       "      <td>All cancers</td>\n",
       "      <td>0</td>\n",
       "      <td>1</td>\n",
       "      <td>1</td>\n",
       "      <td>0</td>\n",
       "      <td>0</td>\n",
       "    </tr>\n",
       "    <tr>\n",
       "      <th>1</th>\n",
       "      <td>2015</td>\n",
       "      <td>453.5</td>\n",
       "      <td>C00-C96, D45-D47</td>\n",
       "      <td>All cancers</td>\n",
       "      <td>0</td>\n",
       "      <td>1</td>\n",
       "      <td>1</td>\n",
       "      <td>0</td>\n",
       "      <td>0</td>\n",
       "    </tr>\n",
       "    <tr>\n",
       "      <th>2</th>\n",
       "      <td>2014</td>\n",
       "      <td>453.5</td>\n",
       "      <td>C00-C96, D45-D47</td>\n",
       "      <td>All cancers</td>\n",
       "      <td>0</td>\n",
       "      <td>1</td>\n",
       "      <td>1</td>\n",
       "      <td>0</td>\n",
       "      <td>0</td>\n",
       "    </tr>\n",
       "    <tr>\n",
       "      <th>3</th>\n",
       "      <td>2013</td>\n",
       "      <td>453.5</td>\n",
       "      <td>C00-C96, D45-D47</td>\n",
       "      <td>All cancers</td>\n",
       "      <td>0</td>\n",
       "      <td>1</td>\n",
       "      <td>1</td>\n",
       "      <td>0</td>\n",
       "      <td>0</td>\n",
       "    </tr>\n",
       "    <tr>\n",
       "      <th>4</th>\n",
       "      <td>2012</td>\n",
       "      <td>453.5</td>\n",
       "      <td>C00-C96, D45-D47</td>\n",
       "      <td>All cancers</td>\n",
       "      <td>0</td>\n",
       "      <td>1</td>\n",
       "      <td>1</td>\n",
       "      <td>0</td>\n",
       "      <td>0</td>\n",
       "    </tr>\n",
       "    <tr>\n",
       "      <th>...</th>\n",
       "      <td>...</td>\n",
       "      <td>...</td>\n",
       "      <td>...</td>\n",
       "      <td>...</td>\n",
       "      <td>...</td>\n",
       "      <td>...</td>\n",
       "      <td>...</td>\n",
       "      <td>...</td>\n",
       "      <td>...</td>\n",
       "    </tr>\n",
       "    <tr>\n",
       "      <th>2809</th>\n",
       "      <td>2001</td>\n",
       "      <td>100.0</td>\n",
       "      <td>C50</td>\n",
       "      <td>Breast</td>\n",
       "      <td>1</td>\n",
       "      <td>0</td>\n",
       "      <td>0</td>\n",
       "      <td>0</td>\n",
       "      <td>1</td>\n",
       "    </tr>\n",
       "    <tr>\n",
       "      <th>2810</th>\n",
       "      <td>2002</td>\n",
       "      <td>100.0</td>\n",
       "      <td>C50</td>\n",
       "      <td>Breast</td>\n",
       "      <td>1</td>\n",
       "      <td>0</td>\n",
       "      <td>0</td>\n",
       "      <td>0</td>\n",
       "      <td>1</td>\n",
       "    </tr>\n",
       "    <tr>\n",
       "      <th>2811</th>\n",
       "      <td>2011</td>\n",
       "      <td>100.0</td>\n",
       "      <td>C62</td>\n",
       "      <td>Testis</td>\n",
       "      <td>1</td>\n",
       "      <td>0</td>\n",
       "      <td>1</td>\n",
       "      <td>0</td>\n",
       "      <td>0</td>\n",
       "    </tr>\n",
       "    <tr>\n",
       "      <th>2812</th>\n",
       "      <td>2011</td>\n",
       "      <td>100.0</td>\n",
       "      <td>C62</td>\n",
       "      <td>Testis</td>\n",
       "      <td>1</td>\n",
       "      <td>0</td>\n",
       "      <td>0</td>\n",
       "      <td>0</td>\n",
       "      <td>1</td>\n",
       "    </tr>\n",
       "    <tr>\n",
       "      <th>2813</th>\n",
       "      <td>2012</td>\n",
       "      <td>100.0</td>\n",
       "      <td>C50</td>\n",
       "      <td>Breast</td>\n",
       "      <td>1</td>\n",
       "      <td>0</td>\n",
       "      <td>0</td>\n",
       "      <td>0</td>\n",
       "      <td>1</td>\n",
       "    </tr>\n",
       "  </tbody>\n",
       "</table>\n",
       "<p>2814 rows × 9 columns</p>\n",
       "</div>"
      ],
      "text/plain": [
       "      year  numbers         icd_codes cancer_category  type_deaths  type_regs  \\\n",
       "0     2016    453.5  C00-C96, D45-D47     All cancers            0          1   \n",
       "1     2015    453.5  C00-C96, D45-D47     All cancers            0          1   \n",
       "2     2014    453.5  C00-C96, D45-D47     All cancers            0          1   \n",
       "3     2013    453.5  C00-C96, D45-D47     All cancers            0          1   \n",
       "4     2012    453.5  C00-C96, D45-D47     All cancers            0          1   \n",
       "...    ...      ...               ...             ...          ...        ...   \n",
       "2809  2001    100.0               C50          Breast            1          0   \n",
       "2810  2002    100.0               C50          Breast            1          0   \n",
       "2811  2011    100.0               C62          Testis            1          0   \n",
       "2812  2011    100.0               C62          Testis            1          0   \n",
       "2813  2012    100.0               C50          Breast            1          0   \n",
       "\n",
       "      sex_AllSex  sex_Female  sex_Male  \n",
       "0              1           0         0  \n",
       "1              1           0         0  \n",
       "2              1           0         0  \n",
       "3              1           0         0  \n",
       "4              1           0         0  \n",
       "...          ...         ...       ...  \n",
       "2809           0           0         1  \n",
       "2810           0           0         1  \n",
       "2811           1           0         0  \n",
       "2812           0           0         1  \n",
       "2813           0           0         1  \n",
       "\n",
       "[2814 rows x 9 columns]"
      ]
     },
     "execution_count": 23,
     "metadata": {},
     "output_type": "execute_result"
    }
   ],
   "source": [
    "#data_cancer.to_excel('Cleaned_data_cancer.xlsx', index=False)\n",
    "#data_cancer.to_csv('Cleaned_data_cancer.csv', index=False)\n",
    "data_cancer"
   ]
  },
  {
   "cell_type": "code",
   "execution_count": null,
   "id": "77188aff",
   "metadata": {},
   "outputs": [],
   "source": []
  },
  {
   "cell_type": "code",
   "execution_count": null,
   "id": "8bea1126",
   "metadata": {},
   "outputs": [],
   "source": []
  },
  {
   "cell_type": "code",
   "execution_count": null,
   "id": "d133e9c7",
   "metadata": {},
   "outputs": [],
   "source": []
  }
 ],
 "metadata": {
  "kernelspec": {
   "display_name": "Python 3 (ipykernel)",
   "language": "python",
   "name": "python3"
  },
  "language_info": {
   "codemirror_mode": {
    "name": "ipython",
    "version": 3
   },
   "file_extension": ".py",
   "mimetype": "text/x-python",
   "name": "python",
   "nbconvert_exporter": "python",
   "pygments_lexer": "ipython3",
   "version": "3.9.7"
  }
 },
 "nbformat": 4,
 "nbformat_minor": 5
}
